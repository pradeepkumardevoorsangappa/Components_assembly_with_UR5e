{
 "cells": [
  {
   "cell_type": "code",
   "execution_count": null,
   "id": "4d7c152f-b3fe-4dff-bfe2-e2e21b4fdf82",
   "metadata": {},
   "outputs": [
    {
     "name": "stdin",
     "output_type": "stream",
     "text": [
      "Enter source point1 separated by a space 0.01408106368035078 0.06762700527906418 -0.242000013589859\n",
      "Enter destination point1 separated by a space -140.88 -886.04 115.00\n",
      "Enter source point2 separated by a space 0.06093168631196022 0.04348032921552658 -0.2410000115633011\n",
      "Enter destination point2 separated by a space -174.64 -869.10 115.45\n",
      "Enter source point3 separated by a space -0.021268878132104874 -0.04424624145030975 -0.24000000953674316\n",
      "Enter destination point3 separated by a space -115.37 -807.23 115.31\n",
      "Enter source point4 separated by a space 0.03613412752747536 -0.04424624145030975 -0.24000000953674316\n",
      "Enter destination point4 separated by a space -156.63 -806.90 114.95\n"
     ]
    },
    {
     "name": "stdout",
     "output_type": "stream",
     "text": [
      "Transformation_Matrix:\n",
      " [[-7.18777693e+02 -4.26055170e+00 -1.87695314e+02 -1.75892986e+02]\n",
      " [ 5.74882789e+00 -7.18338609e+02 -6.74824500e+02 -1.00084940e+03]\n",
      " [-6.27144861e+00  2.20091256e+01  1.27526591e+03  4.22214266e+02]\n",
      " [ 0.00000000e+00  0.00000000e+00  0.00000000e+00  1.00000000e+00]]\n"
     ]
    }
   ],
   "source": [
    "import numpy as np\n",
    "src=[]\n",
    "dst=[]\n",
    "for i in range(0,4):\n",
    "    src.append([float(value) for value in input(f'Enter source point{i+1} separated by a space').split(' ')])\n",
    "    dst.append([float(v) for v in input(f'Enter destination point{i+1} separated by a space').split(' ')])\n",
    "a = np.array([[src[0][0],src[0][1],src[0][2],1],[src[1][0],src[1][1],src[1][2],1],[src[2][0],src[2][1],src[2][2],1],[src[3][0],src[3][1],src[3][2],1]])\n",
    "b = np.array([dst[0][0],dst[1][0],dst[2][0],dst[3][0]])\n",
    "x = np.linalg.solve(a, b)\n",
    "x=np.asmatrix(x)\n",
    "\n",
    "c = a\n",
    "d = np.array([dst[0][1],dst[1][1],dst[2][1],dst[3][1]])\n",
    "y = np.linalg.solve(c, d)\n",
    "y=np.asmatrix(y)\n",
    "\n",
    "e=a\n",
    "f = np.array([dst[0][2],dst[1][2],dst[2][2],dst[3][2]])\n",
    "z = np.linalg.solve(e, f)\n",
    "z=np.asmatrix(z)\n",
    "\n",
    "hom_row=np.asmatrix([0.,0.,0.,1.])\n",
    "\n",
    "k=np.concatenate((x,y,z,hom_row),0)\n",
    "print('Transformation_Matrix:\\n',k)\n",
    "count=0\n",
    "while (count<5):\n",
    "    p1=input('Enter a Source point')\n",
    "    p = [float(value) for value in p1.split(' ')]\n",
    "    p.append(1)\n",
    "    dst_p=np.matmul(k,p)\n",
    "    dst_p=dst_p.tolist()\n",
    "    dst_p=(dst_p[0])[:-1]\n",
    "    print(dst_p)\n",
    "    del p1\n",
    "    del p\n",
    "    count+=1"
   ]
  },
  {
   "cell_type": "code",
   "execution_count": null,
   "id": "e7eea5bd-3be3-45ab-96e2-80bbb379b345",
   "metadata": {},
   "outputs": [],
   "source": []
  }
 ],
 "metadata": {
  "kernelspec": {
   "display_name": "Python 3 (ipykernel)",
   "language": "python",
   "name": "python3"
  },
  "language_info": {
   "codemirror_mode": {
    "name": "ipython",
    "version": 3
   },
   "file_extension": ".py",
   "mimetype": "text/x-python",
   "name": "python",
   "nbconvert_exporter": "python",
   "pygments_lexer": "ipython3",
   "version": "3.9.13"
  }
 },
 "nbformat": 4,
 "nbformat_minor": 5
}

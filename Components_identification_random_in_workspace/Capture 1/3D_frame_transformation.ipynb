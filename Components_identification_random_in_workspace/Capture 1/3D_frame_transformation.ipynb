{
 "cells": [
  {
   "cell_type": "code",
   "execution_count": null,
   "id": "4d7c152f-b3fe-4dff-bfe2-e2e21b4fdf82",
   "metadata": {},
   "outputs": [
    {
     "name": "stdin",
     "output_type": "stream",
     "text": [
      "Enter source point1 separated by a space -0.09368883818387985 -0.0011555579258129 -0.18950000405311584\n",
      "Enter destination point1 separated by a space -182.02 -691.82 139.33\n",
      "Enter source point2 separated by a space 0.15368449687957764 0.054714057594537735 -0.2900000214576721\n",
      "Enter destination point2 separated by a space -385.32 -732.75 122.02\n",
      "Enter source point3 separated by a space -0.10925161838531494 -0.06905695050954819 -0.27400001883506775\n",
      "Enter destination point3 separated by a space -200.49 -645.38 138.60\n",
      "Enter source point4 separated by a space 0.09389473497867584 -0.06181855872273445 -0.2720000147819519\n",
      "Enter destination point4 separated by a space -346.52 -646.86 121.70\n"
     ]
    },
    {
     "name": "stdout",
     "output_type": "stream",
     "text": [
      "Transformation_Matrix:\n",
      " [[-724.60538548   82.90733245  285.41238816 -195.72598377]\n",
      " [  18.67714179 -740.17953151   41.7580128  -683.01233701]\n",
      " [ -84.6609671    44.4134883   -11.45772205  129.27829634]\n",
      " [   0.            0.            0.            1.        ]]\n"
     ]
    }
   ],
   "source": [
    "import numpy as np\n",
    "src=[]\n",
    "dst=[]\n",
    "for i in range(0,4):\n",
    "    src.append([float(value) for value in input(f'Enter source point{i+1} separated by a space').split(' ')])\n",
    "    dst.append([float(v) for v in input(f'Enter destination point{i+1} separated by a space').split(' ')])\n",
    "a = np.array([[src[0][0],src[0][1],src[0][2],1],[src[1][0],src[1][1],src[1][2],1],[src[2][0],src[2][1],src[2][2],1],[src[3][0],src[3][1],src[3][2],1]])\n",
    "b = np.array([dst[0][0],dst[1][0],dst[2][0],dst[3][0]])\n",
    "x = np.linalg.solve(a, b)\n",
    "x=np.asmatrix(x)\n",
    "\n",
    "c = a\n",
    "d = np.array([dst[0][1],dst[1][1],dst[2][1],dst[3][1]])\n",
    "y = np.linalg.solve(c, d)\n",
    "y=np.asmatrix(y)\n",
    "\n",
    "e=a\n",
    "f = np.array([dst[0][2],dst[1][2],dst[2][2],dst[3][2]])\n",
    "z = np.linalg.solve(e, f)\n",
    "z=np.asmatrix(z)\n",
    "\n",
    "hom_row=np.asmatrix([0.,0.,0.,1.])\n",
    "\n",
    "k=np.concatenate((x,y,z,hom_row),0)\n",
    "print('Transformation_Matrix:\\n',k)\n",
    "count=0\n",
    "while (count<5):\n",
    "    p1=input('Enter a Source point')\n",
    "    p = [float(value) for value in p1.split(' ')]\n",
    "    p.append(1)\n",
    "    dst_p=np.matmul(k,p)\n",
    "    dst_p=dst_p.tolist()\n",
    "    dst_p=(dst_p[0])[:-1]\n",
    "    print(dst_p)\n",
    "    del p1\n",
    "    del p\n",
    "    count+=1"
   ]
  },
  {
   "cell_type": "code",
   "execution_count": null,
   "id": "e7eea5bd-3be3-45ab-96e2-80bbb379b345",
   "metadata": {},
   "outputs": [],
   "source": []
  }
 ],
 "metadata": {
  "kernelspec": {
   "display_name": "Python 3 (ipykernel)",
   "language": "python",
   "name": "python3"
  },
  "language_info": {
   "codemirror_mode": {
    "name": "ipython",
    "version": 3
   },
   "file_extension": ".py",
   "mimetype": "text/x-python",
   "name": "python",
   "nbconvert_exporter": "python",
   "pygments_lexer": "ipython3",
   "version": "3.9.13"
  }
 },
 "nbformat": 4,
 "nbformat_minor": 5
}

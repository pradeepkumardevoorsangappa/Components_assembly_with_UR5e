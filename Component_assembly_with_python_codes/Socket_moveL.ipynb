{
 "cells": [
  {
   "cell_type": "code",
   "execution_count": 13,
   "id": "992d793a-a9b2-41fc-bdc6-bc909ecd902c",
   "metadata": {},
   "outputs": [],
   "source": [
    "import socket\n",
    "import time\n",
    "import numpy as np\n",
    "### Set up the connectivities\n",
    "HOST = \"  \" # The remote host\n",
    "PORT = 30002 # The same port as used by the server"
   ]
  },
  {
   "cell_type": "code",
   "execution_count": 14,
   "id": "a8621d1a-053e-4c3f-b7e6-1e442a485713",
   "metadata": {},
   "outputs": [],
   "source": [
    "##ACTIVATE GRIPPER\n",
    "import robotiq as grip\n",
    "import time\n",
    "grip.Activate()"
   ]
  },
  {
   "cell_type": "code",
   "execution_count": 2,
   "id": "4da9abb4-b520-4c64-8803-f961fe8884ec",
   "metadata": {},
   "outputs": [
    {
     "name": "stdout",
     "output_type": "stream",
     "text": [
      "Starting Program\n",
      "Robot goes to the capturing position\n"
     ]
    }
   ],
   "source": [
    "###VARIABLES IF REQUIRED\n",
    "print (\"Starting Program\")\n",
    "count = 0\n",
    "\n",
    "while (count < 1):\n",
    "###CONNECT 2ND CLIENT INTERFACE\n",
    "    s = socket.socket(socket.AF_INET, socket.SOCK_STREAM)\n",
    "    s.connect((HOST, PORT))\n",
    "###MOVE TO CAPTURE POSITION\n",
    "    time.sleep(3)\n",
    "    print(\"Robot goes to the capturing position\")\n",
    "    \n",
    "    s.send ((\"movel(p[-0.00346,-0.40945,1.07991,0.009,2.226,-2.225], a=1.0, v=0.5)\" + \"\\n\").encode('utf-8'))\n",
    "    time.sleep(3)   \n",
    "    s.send ((\"movej(p[-0.16782,-0.70146,0.38802,0.036,-3.154,-0.017], a=1.0, v=0.5)\" + \"\\n\").encode('utf-8'))\n",
    "    time.sleep(3)   \n",
    "    count = count + 1\n",
    "s.close()"
   ]
  },
  {
   "cell_type": "code",
   "execution_count": 3,
   "id": "a6a339a6-0387-4f1c-bb1b-016eac501f89",
   "metadata": {},
   "outputs": [],
   "source": [
    "##PICKING COMPONENT NO.11\n",
    "count = 0\n",
    "while (count < 1):\n",
    "###CONNECT 2ND CLIENT INTERFACE\n",
    "    s = socket.socket(socket.AF_INET, socket.SOCK_STREAM)\n",
    "    s.connect((HOST, PORT))\n",
    "###MOVE TO CAPTURE POSITION\n",
    "    time.sleep(3)\n",
    "    s.send ((\"movel(p[-0.36783,-0.68956,0.11500,2.232,2.201,-0.005], a=1.0, v=0.5)\" + \"\\n\").encode('utf-8'))\n",
    "    time.sleep(3)\n",
    "    s.send ((\"movel(p[-0.36778,-0.68962,0.02505,2.232,2.201,-0.005], a=1.0, v=0.5)\" + \"\\n\").encode('utf-8'))\n",
    "    time.sleep(3)    \n",
    "    count = count + 1\n",
    "s.close()"
   ]
  },
  {
   "cell_type": "code",
   "execution_count": 15,
   "id": "c165aa84-c2f7-412a-8717-fac2cb0317a8",
   "metadata": {},
   "outputs": [],
   "source": [
    "##CLOSE GRIPPER to 88%\n",
    "grip.move(88)"
   ]
  },
  {
   "cell_type": "code",
   "execution_count": 6,
   "id": "f1891672-4d30-40d8-9934-4a9fda81558d",
   "metadata": {},
   "outputs": [],
   "source": [
    "##PLACING COMPONENT NO.11\n",
    "count = 0\n",
    "while (count < 1): \n",
    "###CONNECT 2ND CLIENT INTERFACE \n",
    "    s = socket.socket(socket.AF_INET, socket.SOCK_STREAM)\n",
    "    s.connect((HOST, PORT))\n",
    "###MOVE TO CAPTURE POSITION\n",
    "    time.sleep(3)\n",
    "    s.send ((\"movel(p[-0.36785,-0.68958,0.11495,2.232,2.201,-0.005], a=1.0, v=0.5)\" + \"\\n\").encode('utf-8'))\n",
    "    time.sleep(3)\n",
    "    s.send ((\"movel(p[-0.36780,-0.57204,0.11500,2.232,2.201,-0.005], a=1.0, v=0.5)\" + \"\\n\").encode('utf-8'))\n",
    "    time.sleep(3)\n",
    "    s.send ((\"movel(p[-0.36618,-0.55836,0.008,2.232,2.201,-0.005], a=1.0, v=0.5)\" + \"\\n\").encode('utf-8'))\n",
    "    time.sleep(3)\n",
    "    s.send ((\"movel(p[-0.36620,-0.45540,0.008,2.232,2.201,-0.005], a=1.0, v=0.5)\" + \"\\n\").encode('utf-8'))\n",
    "    time.sleep(3)\n",
    "    count = count + 1\n",
    "s.close()"
   ]
  },
  {
   "cell_type": "code",
   "execution_count": 16,
   "id": "05f41bdd-a55a-45a3-8b39-dd3f1d0b1ce7",
   "metadata": {},
   "outputs": [],
   "source": [
    "##OPEN GRIPPER\n",
    "grip.Open()"
   ]
  },
  {
   "cell_type": "code",
   "execution_count": 9,
   "id": "160238eb-6a06-4a4d-a0d6-3d6760284e7a",
   "metadata": {},
   "outputs": [],
   "source": [
    "##PICKING COMPONENT NO.12\n",
    "count = 0\n",
    "while (count < 1): \n",
    "###CONNECT 2ND CLIENT INTERFACE \n",
    "    s = socket.socket(socket.AF_INET, socket.SOCK_STREAM)\n",
    "    s.connect((HOST, PORT))\n",
    "###MOVE TO CAPTURE POSITION\n",
    "    time.sleep(3)\n",
    "    s.send ((\"movel(p[-0.36617,-0.45550,0.11494,2.232,2.201,-0.005], a=1.0, v=0.5)\" + \"\\n\").encode('utf-8'))\n",
    "    time.sleep(3)\n",
    "    s.send ((\"movel(p[0.12492,-0.6895,0.11495,2.232,2.201,-0.005], a=1.0, v=0.5)\" + \"\\n\").encode('utf-8'))\n",
    "    time.sleep(3) \n",
    "    s.send ((\"movel(p[0.125,-0.68986,0.02502,2.232,2.201,-0.005], a=1.0, v=0.5)\" + \"\\n\").encode('utf-8'))\n",
    "    time.sleep(3) \n",
    "    count = count + 1\n",
    "s.close()"
   ]
  },
  {
   "cell_type": "code",
   "execution_count": 5,
   "id": "68752169-f254-4563-8613-a274b4c6f8c4",
   "metadata": {},
   "outputs": [],
   "source": [
    "##CLOSE GRIPPER to 88%\n",
    "grip.move(88)"
   ]
  },
  {
   "cell_type": "code",
   "execution_count": 138,
   "id": "aa5010e3-9430-4bc3-84e3-c8d358d677aa",
   "metadata": {},
   "outputs": [],
   "source": [
    "##PLACING COMPONENT NO.12\n",
    "count = 0\n",
    "while (count < 1): \n",
    "###CONNECT 2ND CLIENT INTERFACE \n",
    "    s = socket.socket(socket.AF_INET, socket.SOCK_STREAM)\n",
    "    s.connect((HOST, PORT))\n",
    "###MOVE TO CAPTURE POSITION\n",
    "    time.sleep(3)\n",
    "    s.send ((\"movel(p[0.12496,-0.68984,0.11495,2.232,2.201,-0.005], a=1.0, v=0.5)\" + \"\\n\").encode('utf-8'))\n",
    "    time.sleep(3) \n",
    "    s.send ((\"movel(p[0.12502,-0.57734,0.11501,2.232,2.201,-0.005], a=1.0, v=0.5)\" + \"\\n\").encode('utf-8'))\n",
    "    time.sleep(3)\n",
    "    s.send ((\"movel(p[0.15167,-0.55967,0.0081,2.232,2.201,-0.005], a=1.0, v=0.5)\" + \"\\n\").encode('utf-8'))\n",
    "    time.sleep(3) \n",
    "    s.send ((\"movel(p[0.15162,-0.45803,0.0081,2.232,2.201,-0.005], a=1.0, v=0.5)\" + \"\\n\").encode('utf-8'))\n",
    "    time.sleep(3) \n",
    "    count = count + 1\n",
    "s.close()"
   ]
  },
  {
   "cell_type": "code",
   "execution_count": 6,
   "id": "66dcb4c3-4869-4e09-95b0-545f9bc4f2b6",
   "metadata": {},
   "outputs": [],
   "source": [
    "##OPEN GRIPPER\n",
    "grip.Open()"
   ]
  },
  {
   "cell_type": "code",
   "execution_count": 11,
   "id": "01eea3bc-b382-4037-934c-c01e48a90fd1",
   "metadata": {},
   "outputs": [],
   "source": [
    "##PICKING COMPONENT NO.21\n",
    "count = 0\n",
    "while (count < 1): \n",
    "###CONNECT 2ND CLIENT INTERFACE \n",
    "    s = socket.socket(socket.AF_INET, socket.SOCK_STREAM)\n",
    "    s.connect((HOST, PORT))\n",
    "###MOVE TO CAPTURE POSITION\n",
    "    time.sleep(3)\n",
    "    s.send ((\"movel(p[0.15055,-0.4591,0.115,2.232,2.201,-0.005], a=1.0, v=0.5)\" + \"\\n\").encode('utf-8'))\n",
    "    time.sleep(3)\n",
    "    s.send ((\"movel(p[-0.53246, -0.58505, 0.114994, 2.223, 2.190, -0.018], a=1.0, v=0.5)\" + \"\\n\").encode('utf-8'))\n",
    "    time.sleep(3)\n",
    "    s.send ((\"movel(p[-0.53250, -0.58502, -0.040002, 2.223, 2.190, -0.018], a=1.0, v=0.5)\" + \"\\n\").encode('utf-8'))\n",
    "    time.sleep(3)\n",
    "    count = count + 1\n",
    "s.close()"
   ]
  },
  {
   "cell_type": "code",
   "execution_count": 175,
   "id": "982bcd0a-c44e-4e1e-9101-37bc4384cf15",
   "metadata": {},
   "outputs": [],
   "source": [
    "##CLOSE GRIPPER to 88%\n",
    "grip.move(88)"
   ]
  },
  {
   "cell_type": "code",
   "execution_count": 10,
   "id": "9a6f6379-2af2-4b56-b82c-4449554e3b0a",
   "metadata": {},
   "outputs": [],
   "source": [
    "##PLACING COMPONENT NO.21\n",
    "count = 0\n",
    "while (count < 1): \n",
    "###CONNECT 2ND CLIENT INTERFACE \n",
    "    s = socket.socket(socket.AF_INET, socket.SOCK_STREAM)\n",
    "    s.connect((HOST, PORT))\n",
    "###MOVE TO CAPTURE POSITION\n",
    "    s.send ((\"movel(p[-0.53251, -0.585, 0.11496, 2.223, 2.19, -0.018], a=1.0, v=0.5)\" + \"\\n\").encode('utf-8'))\n",
    "    time.sleep(3)\n",
    "    s.send ((\"movel(p[-0.27381, -0.45546, 0.04498, 2.232, 2.201, -0.005], a=1.0, v=0.5)\" + \"\\n\").encode('utf-8'))\n",
    "    time.sleep(3)\n",
    "    s.send ((\"movel(p[-0.27383, -0.45555, 0.02471, 2.232, 2.201, -0.005], a=1.0, v=0.5)\" + \"\\n\").encode('utf-8'))\n",
    "    time.sleep(3)\n",
    "    s.send ((\"movel(p[-0.30992, -0.45553, 0.02472, 2.232, 2.201, -0.005], a=1.0, v=0.5)\" + \"\\n\").encode('utf-8'))\n",
    "    time.sleep(3)    \n",
    "    count = count + 1\n",
    "s.close()"
   ]
  },
  {
   "cell_type": "code",
   "execution_count": 178,
   "id": "4cf4b510-3949-4f4c-83c0-243ba37c494d",
   "metadata": {},
   "outputs": [],
   "source": [
    "##OPEN GRIPPER\n",
    "grip.Open()"
   ]
  },
  {
   "cell_type": "code",
   "execution_count": 179,
   "id": "a59ec67f-5f65-422f-8ff3-f66e50d9993d",
   "metadata": {},
   "outputs": [],
   "source": [
    "##PICKING COMPONENT NO.22\n",
    "count = 0\n",
    "while (count < 1): \n",
    "###CONNECT 2ND CLIENT INTERFACE \n",
    "    s = socket.socket(socket.AF_INET, socket.SOCK_STREAM)\n",
    "    s.connect((HOST, PORT))\n",
    "###MOVE TO CAPTURE POSITION\n",
    "    time.sleep(3)\n",
    "    s.send ((\"movel(p[-0.31041, -0.45532, 0.11499, 2.232, 2.201, -0.005], a=1.0, v=0.5)\" + \"\\n\").encode('utf-8'))\n",
    "    time.sleep(3)\n",
    "    s.send ((\"movel(p[0.27967, -0.58801, 0.11500, 2.232, 2.201, -0.005], a=1.0, v=0.5)\" + \"\\n\").encode('utf-8'))\n",
    "    time.sleep(3)\n",
    "    s.send ((\"movel(p[0.27973, -0.58695, -0.04, 2.232, 2.201, -0.005], a=1.0, v=0.5)\" + \"\\n\").encode('utf-8'))\n",
    "    time.sleep(3)\n",
    "    count = count + 1\n",
    "s.close()"
   ]
  },
  {
   "cell_type": "code",
   "execution_count": 180,
   "id": "d4c50dd8-2b89-4996-ad1d-e73e99de722b",
   "metadata": {},
   "outputs": [],
   "source": [
    "##CLOSE GRIPPER to 88%\n",
    "grip.move(88)"
   ]
  },
  {
   "cell_type": "code",
   "execution_count": 181,
   "id": "97e638a3-3c28-4720-87f4-2405c7e71a63",
   "metadata": {},
   "outputs": [],
   "source": [
    "##PLACING COMPONENT NO.22\n",
    "count = 0\n",
    "while (count < 1): \n",
    "###CONNECT 2ND CLIENT INTERFACE \n",
    "    s = socket.socket(socket.AF_INET, socket.SOCK_STREAM)\n",
    "    s.connect((HOST, PORT))\n",
    "###MOVE TO CAPTURE POSITION\n",
    "    s.send ((\"movel(p[0.27971, -0.58834, 0.11499, 2.223, 2.190, -0.018], a=1.0, v=0.5)\" + \"\\n\").encode('utf-8'))\n",
    "    time.sleep(3)\n",
    "    s.send ((\"movel(p[0.05576, -0.45815, 0.04500, 2.239, 2.201, -0.005], a=1.0, v=0.5)\" + \"\\n\").encode('utf-8'))\n",
    "    time.sleep(3)\n",
    "    s.send ((\"movel(p[0.05576, -0.45745, 0.2513, 2.239, 2.201, -0.005], a=1.0, v=0.5)\" + \"\\n\").encode('utf-8'))\n",
    "    time.sleep(3)\n",
    "    s.send ((\"movel(p[0.09360, -0.45744, 0.2512, 2.239, 2.201, -0.005], a=1.0, v=0.5)\" + \"\\n\").encode('utf-8'))\n",
    "    time.sleep(3) \n",
    "    count = count + 1\n",
    "s.close()"
   ]
  },
  {
   "cell_type": "code",
   "execution_count": 182,
   "id": "dbc8f4f6-9476-4d80-a656-64e248fd2dc2",
   "metadata": {},
   "outputs": [],
   "source": [
    "##OPEN GRIPPER\n",
    "grip.Open()"
   ]
  },
  {
   "cell_type": "code",
   "execution_count": 183,
   "id": "7681ff26-9e58-4bbe-ac73-733145ad8f79",
   "metadata": {},
   "outputs": [],
   "source": [
    "##PICKING COMPONENT NO.13\n",
    "count = 0\n",
    "while (count < 1): \n",
    "###CONNECT 2ND CLIENT INTERFACE \n",
    "    s = socket.socket(socket.AF_INET, socket.SOCK_STREAM)\n",
    "    s.connect((HOST, PORT))\n",
    "###MOVE TO CAPTURE POSITION\n",
    "    time.sleep(3)\n",
    "    s.send ((\"movel(p[0.10016, -0.45815, 0.11500, 2.232, 2.201, -0.004], a=1.0, v=0.5)\" + \"\\n\").encode('utf-8'))\n",
    "    time.sleep(3)\n",
    "    s.send ((\"movel(p[-0.30202, -0.68954, 0.11497, 2.232, 2.201, -0.005], a=1.0, v=0.5)\" + \"\\n\").encode('utf-8'))\n",
    "    time.sleep(3)\n",
    "    s.send ((\"movel(p[-.30188, -.68953, 0.01498, 2.231, 2.201, -0.005], a=1.0, v=0.5)\" + \"\\n\").encode('utf-8'))\n",
    "    time.sleep(3)\n",
    "    count = count + 1\n",
    "s.close()"
   ]
  },
  {
   "cell_type": "code",
   "execution_count": 184,
   "id": "3de94883-da69-4212-8bd9-36641d68b8c2",
   "metadata": {},
   "outputs": [],
   "source": [
    "##CLOSE GRIPPER to 88%\n",
    "grip.move(88)"
   ]
  },
  {
   "cell_type": "code",
   "execution_count": 185,
   "id": "4bfbe7f4-dfc4-4e9b-b7d2-f72a6f66714a",
   "metadata": {},
   "outputs": [],
   "source": [
    "##PLACING COMPONENT NO.13\n",
    "count = 0\n",
    "while (count < 1): \n",
    "###CONNECT 2ND CLIENT INTERFACE \n",
    "    s = socket.socket(socket.AF_INET, socket.SOCK_STREAM)\n",
    "    s.connect((HOST, PORT))\n",
    "###MOVE TO CAPTURE POSITION\n",
    "    s.send ((\"movel(p[-0.30191, -0.68953, 0.11501, 2.232, 2.201, -0.005], a=1.0, v=0.5)\" + \"\\n\").encode('utf-8'))\n",
    "    time.sleep(3)\n",
    "    s.send ((\"movel(p[-0.25939, -0.45501, 0.11497, 2.231, 2.201, -0.005], a=1.0, v=0.5)\" + \"\\n\").encode('utf-8'))\n",
    "    time.sleep(3)\n",
    "    s.send ((\"movel(p[-0.25949, -0.45500, 0.075, 2.231, 2.201, -0.005], a=1.0, v=0.5)\" + \"\\n\").encode('utf-8'))\n",
    "    time.sleep(3)\n",
    "    s.send ((\"movel(p[-0.25947, -0.45502, 0.04828, 2.231, 2.201, -0.005], a=1.0, v=0.5)\" + \"\\n\").encode('utf-8'))\n",
    "    time.sleep(3) \n",
    "    count = count + 1\n",
    "s.close()"
   ]
  },
  {
   "cell_type": "code",
   "execution_count": 187,
   "id": "fdd44168-55ec-4c37-942e-6c382b4eb871",
   "metadata": {},
   "outputs": [],
   "source": [
    "##OPEN GRIPPER\n",
    "grip.Open()"
   ]
  },
  {
   "cell_type": "code",
   "execution_count": 195,
   "id": "8ef7387b-2e1e-48ea-b8d2-d8f623353ce8",
   "metadata": {},
   "outputs": [],
   "source": [
    "##PICKING COMPONENT NO.14\n",
    "count = 0\n",
    "while (count < 1): \n",
    "###CONNECT 2ND CLIENT INTERFACE \n",
    "    s = socket.socket(socket.AF_INET, socket.SOCK_STREAM)\n",
    "    s.connect((HOST, PORT))\n",
    "###MOVE TO CAPTURE POSITION\n",
    "    s.send ((\"movej(p[-0.25949, -0.45500, 0.11499, 2.231, 2.201, -0.005], a=1.0, v=0.5)\" + \"\\n\").encode('utf-8'))\n",
    "    time.sleep(3)\n",
    "    s.send ((\"movej(p[0.06001, -0.68947, 0.11486, 2.232, 2.201, -0.005], a=1.0, v=0.5)\" + \"\\n\").encode('utf-8'))\n",
    "    time.sleep(3)\n",
    "    s.send ((\"movej(p[0.06003, -0.69148, 0.01501, 2.232, 2.201, -0.005], a=1.0, v=0.5)\" + \"\\n\").encode('utf-8'))\n",
    "    time.sleep(3) \n",
    "    count = count + 1\n",
    "s.close()"
   ]
  },
  {
   "cell_type": "code",
   "execution_count": 196,
   "id": "be4e23cd-9f21-457b-ad81-e8f0c30a5e52",
   "metadata": {},
   "outputs": [],
   "source": [
    "##CLOSE GRIPPER to 88%\n",
    "grip.move(88)"
   ]
  },
  {
   "cell_type": "code",
   "execution_count": 197,
   "id": "0c02942f-bb01-4c7f-a196-06267e64ae52",
   "metadata": {},
   "outputs": [],
   "source": [
    "##PLACING COMPONENT NO.14\n",
    "count = 0\n",
    "while (count < 1): \n",
    "###CONNECT 2ND CLIENT INTERFACE \n",
    "    s = socket.socket(socket.AF_INET, socket.SOCK_STREAM)\n",
    "    s.connect((HOST, PORT))\n",
    "###MOVE TO CAPTURE POSITION\n",
    "    s.send ((\"movej(p[0.05998, -0.69145, 0.11499, 2.232, 2.201, -0.004], a=1.0, v=0.5)\" + \"\\n\").encode('utf-8'))\n",
    "    time.sleep(3)\n",
    "    s.send ((\"movej(p[0.04590, -0.45695, 0.11496, 2.232, 2.201, -0.005], a=1.0, v=0.5)\" + \"\\n\").encode('utf-8'))\n",
    "    time.sleep(3)\n",
    "    s.send ((\"movej(p[0.04590, -0.45695, 0.06958, 2.232, 2.201, -0.005], a=1.0, v=0.5)\" + \"\\n\").encode('utf-8'))\n",
    "    time.sleep(3)\n",
    "    s.send ((\"movej(p[0.04588, -0.45700, 0.05001, 2.232, 2.201, -0.005], a=1.0, v=0.5)\" + \"\\n\").encode('utf-8'))\n",
    "    time.sleep(3) \n",
    "    count = count + 1\n",
    "s.close()"
   ]
  },
  {
   "cell_type": "code",
   "execution_count": 198,
   "id": "f616e78a-b5c8-4fc7-a366-d7c50b4ad476",
   "metadata": {},
   "outputs": [],
   "source": [
    "##OPEN GRIPPER\n",
    "grip.Open()"
   ]
  },
  {
   "cell_type": "code",
   "execution_count": 199,
   "id": "89c1e087-bd32-4c7d-a458-3f207e19210d",
   "metadata": {},
   "outputs": [],
   "source": [
    "##PICKING COMPONENT NO.15\n",
    "count = 0\n",
    "while (count < 1): \n",
    "###CONNECT 2ND CLIENT INTERFACE \n",
    "    s = socket.socket(socket.AF_INET, socket.SOCK_STREAM)\n",
    "    s.connect((HOST, PORT))\n",
    "###MOVE TO CAPTURE POSITION\n",
    "    s.send ((\"movej(p[0.045852, -0.45699, 0.11498, 2.232, 2.201, -0.005], a=1.0, v=0.5)\" + \"\\n\").encode('utf-8'))\n",
    "    time.sleep(3)\n",
    "    s.send ((\"movej(p[-0.24000, -0.68952, 0.11493, 2.232, 2.201, -0.005], a=1.0, v=0.5)\" + \"\\n\").encode('utf-8'))\n",
    "    time.sleep(3)\n",
    "    s.send ((\"movej(p[-0.24005, -0.68956, 0.01506, 2.232, 2.201, -0.005], a=1.0, v=0.5)\" + \"\\n\").encode('utf-8'))\n",
    "    time.sleep(3) \n",
    "    count = count + 1\n",
    "s.close()"
   ]
  },
  {
   "cell_type": "code",
   "execution_count": 200,
   "id": "403cdbbc-4b36-43fd-92b1-9810f8274d43",
   "metadata": {},
   "outputs": [],
   "source": [
    "##CLOSE GRIPPER to 88%\n",
    "grip.move(88)"
   ]
  },
  {
   "cell_type": "code",
   "execution_count": 201,
   "id": "7276d688-40bf-470b-bc9b-6db6d426c22f",
   "metadata": {},
   "outputs": [],
   "source": [
    "##PLACING COMPONENT NO.15\n",
    "count = 0\n",
    "while (count < 1): \n",
    "###CONNECT 2ND CLIENT INTERFACE \n",
    "    s = socket.socket(socket.AF_INET, socket.SOCK_STREAM)\n",
    "    s.connect((HOST, PORT))\n",
    "###MOVE TO CAPTURE POSITION\n",
    "    s.send ((\"movej(p[-0.24006, -0.68953, 0.11494, 2.232, 2.201, -0.005], a=1.0, v=0.5)\" + \"\\n\").encode('utf-8'))\n",
    "    time.sleep(3)\n",
    "    s.send ((\"movej(p[-0.20832, -0.45488, 0.1150, 2.232, 2.201, -0.005], a=1.0, v=0.5)\" + \"\\n\").encode('utf-8'))\n",
    "    time.sleep(3)\n",
    "    s.send ((\"movej(p[-0.20831, -0.45440, 0.06913, 2.232, 2.201, -0.005], a=1.0, v=0.5)\" + \"\\n\").encode('utf-8'))\n",
    "    time.sleep(3)\n",
    "    s.send ((\"movej(p[-0.20866, -0.45498, 0.05018, 2.231, 2.201, -0.006], a=1.0, v=0.5)\" + \"\\n\").encode('utf-8'))\n",
    "    time.sleep(3) \n",
    "    count = count + 1\n",
    "s.close()"
   ]
  },
  {
   "cell_type": "code",
   "execution_count": 202,
   "id": "3b9a3094-9392-4de5-966e-87794543d3de",
   "metadata": {},
   "outputs": [],
   "source": [
    "##OPEN GRIPPER\n",
    "grip.Open()"
   ]
  },
  {
   "cell_type": "code",
   "execution_count": 41,
   "id": "1bebe105-8700-4c63-9536-ef9569255abb",
   "metadata": {},
   "outputs": [],
   "source": [
    "##PICKING COMPONENT NO.16\n",
    "count = 0\n",
    "while (count < 1): \n",
    "###CONNECT 2ND CLIENT INTERFACE \n",
    "    s = socket.socket(socket.AF_INET, socket.SOCK_STREAM)\n",
    "    s.connect((HOST, PORT))\n",
    "###MOVE TO CAPTURE POSITION\n",
    "    s.send ((\"movej(p[-0.20860, -0.45487, 0.11499, 2.232, 2.201, -0.005], a=1.0, v=0.5)\" + \"\\n\").encode('utf-8'))\n",
    "    time.sleep(3)\n",
    "    s.send ((\"movej(p[0.00001, -0.68949, 0.114871, 2.232, 2.201, -0.005], a=1.0, v=0.5)\" + \"\\n\").encode('utf-8'))\n",
    "    time.sleep(3)\n",
    "    s.send ((\"movej(p[-0.00001, -0.69094, 0.01500, 2.232, 2.201, -0.005], a=1.0, v=0.5)\" + \"\\n\").encode('utf-8'))\n",
    "    time.sleep(3) \n",
    "    count = count + 1\n",
    "s.close()\n"
   ]
  },
  {
   "cell_type": "code",
   "execution_count": 42,
   "id": "a2cc0ce6-002e-4ac9-b4a8-089d6db26c28",
   "metadata": {},
   "outputs": [],
   "source": [
    "##CLOSE GRIPPER to 88%\n",
    "grip.move(88)"
   ]
  },
  {
   "cell_type": "code",
   "execution_count": 43,
   "id": "a2a6fd95-4b6b-40d6-aad3-b9e5957ebdc3",
   "metadata": {},
   "outputs": [],
   "source": [
    "##PLACING COMPONENT NO.16\n",
    "count = 0\n",
    "while (count < 1): \n",
    "###CONNECT 2ND CLIENT INTERFACE \n",
    "    s = socket.socket(socket.AF_INET, socket.SOCK_STREAM)\n",
    "    s.connect((HOST, PORT))\n",
    "###MOVE TO CAPTURE POSITION\n",
    "    s.send ((\"movej(p[-0.00003, -0.69093, 0.11499, 2.232, 2.201, -0.005], a=1.0, v=0.5)\" + \"\\n\").encode('utf-8'))\n",
    "    time.sleep(3)\n",
    "    s.send ((\"movej(p[-0.005715, -0.45488, 0.11499, 2.232, 2.201, -0.004], a=1.0, v=0.5)\" + \"\\n\").encode('utf-8'))\n",
    "    time.sleep(3)\n",
    "    s.send ((\"movej(p[-0.004772, -0.45662, 0.070, 2.232, 2.201, -0.004], a=1.0, v=0.5)\" + \"\\n\").encode('utf-8'))\n",
    "    time.sleep(3)\n",
    "    s.send ((\"movej(p[-0.00478, -0.45530, 0.050, 2.232, 2.201, -0.004], a=1.0, v=0.5)\" + \"\\n\").encode('utf-8'))\n",
    "    time.sleep(3) \n",
    "    count = count + 1\n",
    "s.close()"
   ]
  },
  {
   "cell_type": "code",
   "execution_count": 44,
   "id": "46d2610a-baa9-44e7-b5e6-79b91c3a1f74",
   "metadata": {},
   "outputs": [],
   "source": [
    "##OPEN GRIPPER\n",
    "grip.Open()"
   ]
  },
  {
   "cell_type": "code",
   "execution_count": 45,
   "id": "7f247490-2233-4da3-a607-f49039b4197e",
   "metadata": {},
   "outputs": [],
   "source": [
    "##PICKING COMPONENT NO.17\n",
    "count = 0\n",
    "while (count < 1): \n",
    "###CONNECT 2ND CLIENT INTERFACE \n",
    "    s = socket.socket(socket.AF_INET, socket.SOCK_STREAM)\n",
    "    s.connect((HOST, PORT))\n",
    "###MOVE TO CAPTURE POSITION\n",
    "    s.send ((\"movej(p[-0.004783, -0.455279, 0.114981, 2.232, 2.201, -0.004], a=1.0, v=0.5)\" + \"\\n\").encode('utf-8'))\n",
    "    time.sleep(3)\n",
    "    s.send ((\"movej(p[-0.18001, -0.689517, 0.11492, 2.232, 2.201, -0.005], a=1.0, v=0.5)\" + \"\\n\").encode('utf-8'))\n",
    "    time.sleep(3)\n",
    "    s.send ((\"movej(p[-0.17998, -0.689543, 0.01506, 2.232, 2.201, -0.005], a=1.0, v=0.5)\" + \"\\n\").encode('utf-8'))\n",
    "    time.sleep(3) \n",
    "    count = count + 1\n",
    "s.close()"
   ]
  },
  {
   "cell_type": "code",
   "execution_count": 46,
   "id": "2fa671f5-c230-4072-977a-2c10c8a69d6e",
   "metadata": {},
   "outputs": [],
   "source": [
    "##CLOSE GRIPPER to 88%\n",
    "grip.move(88)"
   ]
  },
  {
   "cell_type": "code",
   "execution_count": 47,
   "id": "d8929fea-5c47-4ec0-958f-5b15b4d5d26b",
   "metadata": {},
   "outputs": [],
   "source": [
    "##PLACING COMPONENT NO.17\n",
    "count = 0\n",
    "while (count < 1): \n",
    "###CONNECT 2ND CLIENT INTERFACE \n",
    "    s = socket.socket(socket.AF_INET, socket.SOCK_STREAM)\n",
    "    s.connect((HOST, PORT))\n",
    "###MOVE TO CAPTURE POSITION\n",
    "    s.send ((\"movej(p[-0.18001, -0.68951, 0.11494, 2.232, 2.201, -0.005], a=1.0, v=0.5)\" + \"\\n\").encode('utf-8'))\n",
    "    time.sleep(3)\n",
    "    s.send ((\"movej(p[-0.158068, -0.45482, 0.11998, 2.232, 2.201, -0.005], a=1.0, v=0.5)\" + \"\\n\").encode('utf-8'))\n",
    "    time.sleep(3)\n",
    "    s.send ((\"movej(p[-0.15806, -0.45481, 0.07502, 2.232, 2.201, -0.005], a=1.0, v=0.5)\" + \"\\n\").encode('utf-8'))\n",
    "    time.sleep(3)\n",
    "    s.send ((\"movej(p[-0.158060, -0.454780, 0.0500072, 2.232, 2.201, -0.005], a=1.0, v=0.5)\" + \"\\n\").encode('utf-8'))\n",
    "    time.sleep(3) \n",
    "    count = count + 1\n",
    "s.close()"
   ]
  },
  {
   "cell_type": "code",
   "execution_count": 48,
   "id": "f026b773-5c10-44d0-9845-f7da48d4bcc4",
   "metadata": {},
   "outputs": [],
   "source": [
    "##OPEN GRIPPER\n",
    "grip.Open()"
   ]
  },
  {
   "cell_type": "code",
   "execution_count": 49,
   "id": "7f7a31d5-2510-4d7c-94d7-a576776b270a",
   "metadata": {},
   "outputs": [],
   "source": [
    "##PICKING COMPONENT NO.18\n",
    "count = 0\n",
    "while (count < 1): \n",
    "###CONNECT 2ND CLIENT INTERFACE \n",
    "    s = socket.socket(socket.AF_INET, socket.SOCK_STREAM)\n",
    "    s.connect((HOST, PORT))\n",
    "###MOVE TO CAPTURE POSITION\n",
    "    s.send ((\"movej(p[-0.158038, -0.4547909, 0.119986, 2.232, 2.201, -0.004], a=1.0, v=0.5)\" + \"\\n\").encode('utf-8'))\n",
    "    time.sleep(3)\n",
    "    s.send ((\"movej(p[-0.0599926, -0.68948, 0.1149, 2.232, 2.201, -0.005], a=1.0, v=0.5)\" + \"\\n\").encode('utf-8'))\n",
    "    time.sleep(3)\n",
    "    s.send ((\"movej(p[-0.059975, -0.68976, 0.01500, 2.232, 2.201, -0.005], a=1.0, v=0.5)\" + \"\\n\").encode('utf-8'))\n",
    "    time.sleep(3) \n",
    "    count = count + 1\n",
    "s.close()"
   ]
  },
  {
   "cell_type": "code",
   "execution_count": 50,
   "id": "52b1704e-96f9-4124-9f99-9535b9abd538",
   "metadata": {},
   "outputs": [],
   "source": [
    "##CLOSE GRIPPER to 88%\n",
    "grip.move(88)"
   ]
  },
  {
   "cell_type": "code",
   "execution_count": 51,
   "id": "014f575b-c65b-43c1-b2bb-5a6fb61f687d",
   "metadata": {},
   "outputs": [],
   "source": [
    "##PLACING COMPONENT NO.18\n",
    "count = 0\n",
    "while (count < 1): \n",
    "###CONNECT 2ND CLIENT INTERFACE \n",
    "    s = socket.socket(socket.AF_INET, socket.SOCK_STREAM)\n",
    "    s.connect((HOST, PORT))\n",
    "###MOVE TO CAPTURE POSITION\n",
    "    s.send ((\"movej(p[-0.05998, -0.68979, 0.11498, 2.232, 2.201, -0.005], a=1.0, v=0.5)\" + \"\\n\").encode('utf-8'))\n",
    "    time.sleep(3)\n",
    "    s.send ((\"movej(p[-0.05987, -0.45481, 0.12000, 2.232, 2.201, -0.004], a=1.0, v=0.5)\" + \"\\n\").encode('utf-8'))\n",
    "    time.sleep(3)\n",
    "    s.send ((\"movej(p[-0.05987, -0.45481, 0.07505, 2.232, 2.201, -0.005], a=1.0, v=0.5)\" + \"\\n\").encode('utf-8'))\n",
    "    time.sleep(3)\n",
    "    s.send ((\"movej(p[-0.0598, -0.45482, 0.05503, 2.232, 2.201, -0.005], a=1.0, v=0.5)\" + \"\\n\").encode('utf-8'))\n",
    "    time.sleep(3) \n",
    "    count = count + 1\n",
    "s.close()"
   ]
  },
  {
   "cell_type": "code",
   "execution_count": 52,
   "id": "20e67c34-ffec-491a-b57c-55dc138c1b06",
   "metadata": {},
   "outputs": [],
   "source": [
    "##OPEN GRIPPER\n",
    "grip.Open()"
   ]
  },
  {
   "cell_type": "code",
   "execution_count": 53,
   "id": "bf047cb6-da83-4d5d-966b-584b909076cd",
   "metadata": {},
   "outputs": [],
   "source": [
    "##PICKING COMPONENT NO.19\n",
    "count = 0\n",
    "while (count < 1): \n",
    "###CONNECT 2ND CLIENT INTERFACE \n",
    "    s = socket.socket(socket.AF_INET, socket.SOCK_STREAM)\n",
    "    s.connect((HOST, PORT))\n",
    "###MOVE TO CAPTURE POSITION\n",
    "    s.send ((\"movej(p[-0.05981, -0.454730, 0.119993, 2.232, 2.201, -0.004], a=1.0, v=0.5)\" + \"\\n\").encode('utf-8'))\n",
    "    time.sleep(3)\n",
    "    s.send ((\"movej(p[-0.120001, -0.689490, 0.114911, 2.232, 2.201, -0.005], a=1.0, v=0.5)\" + \"\\n\").encode('utf-8'))\n",
    "    time.sleep(3)\n",
    "    s.send ((\"movej(p[-0.119992, -0.68949, 0.01500, 2.232, 2.201, -0.005], a=1.0, v=0.5)\" + \"\\n\").encode('utf-8'))\n",
    "    time.sleep(3) \n",
    "    count = count + 1\n",
    "s.close()"
   ]
  },
  {
   "cell_type": "code",
   "execution_count": 54,
   "id": "07812299-bc95-413d-8d6b-32fd709fc884",
   "metadata": {},
   "outputs": [],
   "source": [
    "##CLOSE GRIPPER to 88%\n",
    "grip.move(88)"
   ]
  },
  {
   "cell_type": "code",
   "execution_count": 55,
   "id": "148ef266-7026-4d80-935f-a21158cc39da",
   "metadata": {},
   "outputs": [],
   "source": [
    "##PLACING COMPONENT NO.19\n",
    "count = 0\n",
    "while (count < 1): \n",
    "###CONNECT 2ND CLIENT INTERFACE \n",
    "    s = socket.socket(socket.AF_INET, socket.SOCK_STREAM)\n",
    "    s.connect((HOST, PORT))\n",
    "###MOVE TO CAPTURE POSITION\n",
    "    s.send ((\"movej(p[-0.11999, -0.689529, 0.119996, 2.232, 2.201, -0.005], a=1.0, v=0.5)\" + \"\\n\").encode('utf-8'))\n",
    "    time.sleep(3)\n",
    "    s.send ((\"movej(p[-0.120, -0.57819, 0.115, 2.232, 2.201, -0.005], a=1.0, v=0.5)\" + \"\\n\").encode('utf-8'))\n",
    "    time.sleep(3)\n",
    "    s.send ((\"movej(p[-0.11993, -0.57819, 0.0, 2.232, 2.201, -0.005], a=1.0, v=0.5)\" + \"\\n\").encode('utf-8'))\n",
    "    time.sleep(3)\n",
    "    count = count + 1\n",
    "s.close()"
   ]
  },
  {
   "cell_type": "code",
   "execution_count": 56,
   "id": "6e5cf8b5-2a85-4a38-bb67-1b87b6824358",
   "metadata": {},
   "outputs": [],
   "source": [
    "##OPEN GRIPPER\n",
    "grip.Open()"
   ]
  },
  {
   "cell_type": "code",
   "execution_count": 57,
   "id": "264e2bfc-eab2-422c-90c9-49e255928229",
   "metadata": {},
   "outputs": [],
   "source": [
    "\n",
    "count = 0\n",
    "while (count < 1): \n",
    "###CONNECT 2ND CLIENT INTERFACE \n",
    "    s = socket.socket(socket.AF_INET, socket.SOCK_STREAM)\n",
    "    s.connect((HOST, PORT))\n",
    "###MOVE TO CAPTURE POSITION\n",
    "    s.send ((\"movej(p[-0.11993, -0.57819, 0.130, 2.232, 2.201, -0.005], a=1.0, v=0.5)\" + \"\\n\").encode('utf-8'))\n",
    "    time.sleep(3)\n",
    "    count = count + 1\n",
    "s.close()"
   ]
  },
  {
   "cell_type": "code",
   "execution_count": null,
   "id": "6b09fd65-5b4b-407c-a76c-857a9c97788d",
   "metadata": {},
   "outputs": [],
   "source": []
  }
 ],
 "metadata": {
  "kernelspec": {
   "display_name": "Python 3 (ipykernel)",
   "language": "python",
   "name": "python3"
  },
  "language_info": {
   "codemirror_mode": {
    "name": "ipython",
    "version": 3
   },
   "file_extension": ".py",
   "mimetype": "text/x-python",
   "name": "python",
   "nbconvert_exporter": "python",
   "pygments_lexer": "ipython3",
   "version": "3.9.13"
  }
 },
 "nbformat": 4,
 "nbformat_minor": 5
}

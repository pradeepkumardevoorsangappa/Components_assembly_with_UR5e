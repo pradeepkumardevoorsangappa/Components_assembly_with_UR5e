{
 "cells": [
  {
   "cell_type": "code",
   "execution_count": null,
   "id": "4d7c152f-b3fe-4dff-bfe2-e2e21b4fdf82",
   "metadata": {},
   "outputs": [
    {
     "name": "stdin",
     "output_type": "stream",
     "text": [
      "Enter source point1 separated by a space -0.07401496917009354 -0.046586379408836365 -0.20800000429153442\n",
      "Enter destination point1 separated by a space 99.16 -642.30 119.66\n",
      "Enter source point2 separated by a space 0.10273104161024094 -0.04179661348462105 -0.18800000846385956\n",
      "Enter destination point2 separated by a space -77.56 -647.05 138.32\n",
      "Enter source point3 separated by a space 0.024583768099546432 -0.001146411057561636 -0.18800000846385956\n",
      "Enter destination point3 separated by a space -1.0 -687.42 129.52\n",
      "Enter source point4 separated by a space 0.07544151693582535 0.01219678483903408 -0.18800000846385956\n",
      "Enter destination point4 separated by a space -50.80 -700.47 138.28\n"
     ]
    },
    {
     "name": "stdout",
     "output_type": "stream",
     "text": [
      "Transformation_Matrix:\n",
      " [[-9.79365051e+02  6.22173726e-01 -1.81205747e+02 -1.09894855e+01]\n",
      " [ 2.63002626e+00 -9.88050938e+02 -2.41157019e+01 -6.93151121e+02]\n",
      " [ 1.52250424e+02  7.62100894e+01 -4.30734272e+02  4.48864321e+01]\n",
      " [ 0.00000000e+00  0.00000000e+00  0.00000000e+00  1.00000000e+00]]\n"
     ]
    }
   ],
   "source": [
    "import numpy as np\n",
    "src=[]\n",
    "dst=[]\n",
    "for i in range(0,4):\n",
    "    src.append([float(value) for value in input(f'Enter source point{i+1} separated by a space').split(' ')])\n",
    "    dst.append([float(v) for v in input(f'Enter destination point{i+1} separated by a space').split(' ')])\n",
    "a = np.array([[src[0][0],src[0][1],src[0][2],1],[src[1][0],src[1][1],src[1][2],1],[src[2][0],src[2][1],src[2][2],1],[src[3][0],src[3][1],src[3][2],1]])\n",
    "b = np.array([dst[0][0],dst[1][0],dst[2][0],dst[3][0]])\n",
    "x = np.linalg.solve(a, b)\n",
    "x=np.asmatrix(x)\n",
    "\n",
    "c = a\n",
    "d = np.array([dst[0][1],dst[1][1],dst[2][1],dst[3][1]])\n",
    "y = np.linalg.solve(c, d)\n",
    "y=np.asmatrix(y)\n",
    "\n",
    "e=a\n",
    "f = np.array([dst[0][2],dst[1][2],dst[2][2],dst[3][2]])\n",
    "z = np.linalg.solve(e, f)\n",
    "z=np.asmatrix(z)\n",
    "\n",
    "hom_row=np.asmatrix([0.,0.,0.,1.])\n",
    "\n",
    "k=np.concatenate((x,y,z,hom_row),0)\n",
    "print('Transformation_Matrix:\\n',k)\n",
    "count=0\n",
    "while (count<5):\n",
    "    p1=input('Enter a Source point')\n",
    "    p = [float(value) for value in p1.split(' ')]\n",
    "    p.append(1)\n",
    "    dst_p=np.matmul(k,p)\n",
    "    dst_p=dst_p.tolist()\n",
    "    dst_p=(dst_p[0])[:-1]\n",
    "    print(dst_p)\n",
    "    del p1\n",
    "    del p\n",
    "    count+=1"
   ]
  },
  {
   "cell_type": "code",
   "execution_count": null,
   "id": "e7eea5bd-3be3-45ab-96e2-80bbb379b345",
   "metadata": {},
   "outputs": [],
   "source": []
  }
 ],
 "metadata": {
  "kernelspec": {
   "display_name": "Python 3 (ipykernel)",
   "language": "python",
   "name": "python3"
  },
  "language_info": {
   "codemirror_mode": {
    "name": "ipython",
    "version": 3
   },
   "file_extension": ".py",
   "mimetype": "text/x-python",
   "name": "python",
   "nbconvert_exporter": "python",
   "pygments_lexer": "ipython3",
   "version": "3.9.13"
  }
 },
 "nbformat": 4,
 "nbformat_minor": 5
}
